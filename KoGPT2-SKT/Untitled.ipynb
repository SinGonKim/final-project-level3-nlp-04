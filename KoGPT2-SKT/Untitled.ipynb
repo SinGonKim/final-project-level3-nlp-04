{
 "cells": [
  {
   "cell_type": "code",
   "execution_count": 1,
   "id": "838e3c2a-b26a-456b-a688-711cf38e8431",
   "metadata": {},
   "outputs": [],
   "source": [
    "import pandas as pd"
   ]
  },
  {
   "cell_type": "code",
   "execution_count": 4,
   "id": "545acde4-cf7a-4425-9a77-e9237bdc769e",
   "metadata": {},
   "outputs": [],
   "source": [
    "df = pd.read_csv('review.csv')"
   ]
  },
  {
   "cell_type": "code",
   "execution_count": 5,
   "id": "59b009b1-cf32-4db7-85c2-ed98eec8c99d",
   "metadata": {},
   "outputs": [
    {
     "data": {
      "text/html": [
       "<div>\n",
       "<style scoped>\n",
       "    .dataframe tbody tr th:only-of-type {\n",
       "        vertical-align: middle;\n",
       "    }\n",
       "\n",
       "    .dataframe tbody tr th {\n",
       "        vertical-align: top;\n",
       "    }\n",
       "\n",
       "    .dataframe thead th {\n",
       "        text-align: right;\n",
       "    }\n",
       "</style>\n",
       "<table border=\"1\" class=\"dataframe\">\n",
       "  <thead>\n",
       "    <tr style=\"text-align: right;\">\n",
       "      <th></th>\n",
       "      <th>brand</th>\n",
       "      <th>menu</th>\n",
       "      <th>star</th>\n",
       "      <th>review</th>\n",
       "    </tr>\n",
       "  </thead>\n",
       "  <tbody>\n",
       "    <tr>\n",
       "      <th>0</th>\n",
       "      <td>직화신불닭&amp;국물닭발-강북</td>\n",
       "      <td>찜</td>\n",
       "      <td>3</td>\n",
       "      <td>배달오시기전 한번더 확인하셨다면 좋았을텐데그럼 바쁜 시간 전화까지 안했을텐데음식 나...</td>\n",
       "    </tr>\n",
       "    <tr>\n",
       "      <th>1</th>\n",
       "      <td>직화신불닭&amp;국물닭발-강북</td>\n",
       "      <td>닭발</td>\n",
       "      <td>3</td>\n",
       "      <td>맛은 있는데 양이 조금 적네여사장님 힘내세요</td>\n",
       "    </tr>\n",
       "    <tr>\n",
       "      <th>2</th>\n",
       "      <td>직화신불닭&amp;국물닭발-강북</td>\n",
       "      <td>찜</td>\n",
       "      <td>1</td>\n",
       "      <td>리뷰보고 오늘 처음 기대에 차서 시켰는데 일단 1단계인데도 너무 매워서 결국 못먹었...</td>\n",
       "    </tr>\n",
       "    <tr>\n",
       "      <th>3</th>\n",
       "      <td>직화신불닭&amp;국물닭발-강북</td>\n",
       "      <td>닭발</td>\n",
       "      <td>1</td>\n",
       "      <td>요즘같이 배달음식점들이 활성화 된 시기에 이곳은 맛은 있습니다. 근데 먹고 전 배아...</td>\n",
       "    </tr>\n",
       "    <tr>\n",
       "      <th>4</th>\n",
       "      <td>직화신불닭&amp;국물닭발-강북</td>\n",
       "      <td>닭발</td>\n",
       "      <td>1</td>\n",
       "      <td>첨으로 리뷰 남겨요.와이프와 먹게 삼겹살 3인분600시켰어요.냉동은 그렇다치고.어떻...</td>\n",
       "    </tr>\n",
       "    <tr>\n",
       "      <th>...</th>\n",
       "      <td>...</td>\n",
       "      <td>...</td>\n",
       "      <td>...</td>\n",
       "      <td>...</td>\n",
       "    </tr>\n",
       "    <tr>\n",
       "      <th>9301</th>\n",
       "      <td>칼국수한마당-미금점</td>\n",
       "      <td>국수</td>\n",
       "      <td>5</td>\n",
       "      <td>배달도 빠르고 2인분 시켰는데 양 진짜 많고 맛있어요. 담에 또 시킬것같아요~</td>\n",
       "    </tr>\n",
       "    <tr>\n",
       "      <th>9302</th>\n",
       "      <td>칼국수한마당-미금점</td>\n",
       "      <td>국수</td>\n",
       "      <td>4</td>\n",
       "      <td>뚜껑안에 랩을 씌우면 국물이 새지않을듯싶습니다</td>\n",
       "    </tr>\n",
       "    <tr>\n",
       "      <th>9303</th>\n",
       "      <td>칼국수한마당-미금점</td>\n",
       "      <td>국수</td>\n",
       "      <td>5</td>\n",
       "      <td>한결같이 맛있어요 국물까지 원샷했네요</td>\n",
       "    </tr>\n",
       "    <tr>\n",
       "      <th>9304</th>\n",
       "      <td>칼국수한마당-미금점</td>\n",
       "      <td>국수</td>\n",
       "      <td>5</td>\n",
       "      <td>배터지게 맛있게 잘 먹었습니다 눈오는날 이었는데 배송부탁드려서 죄송했어요~~그래도 ...</td>\n",
       "    </tr>\n",
       "    <tr>\n",
       "      <th>9305</th>\n",
       "      <td>칼국수한마당-미금점</td>\n",
       "      <td>국수</td>\n",
       "      <td>5</td>\n",
       "      <td>양이 정말 많아요. 국물도 시원하고 맛있습니다. 특히 만두가 정말 맛있어요.</td>\n",
       "    </tr>\n",
       "  </tbody>\n",
       "</table>\n",
       "<p>9306 rows × 4 columns</p>\n",
       "</div>"
      ],
      "text/plain": [
       "              brand menu  star  \\\n",
       "0     직화신불닭&국물닭발-강북    찜     3   \n",
       "1     직화신불닭&국물닭발-강북   닭발     3   \n",
       "2     직화신불닭&국물닭발-강북    찜     1   \n",
       "3     직화신불닭&국물닭발-강북   닭발     1   \n",
       "4     직화신불닭&국물닭발-강북   닭발     1   \n",
       "...             ...  ...   ...   \n",
       "9301     칼국수한마당-미금점   국수     5   \n",
       "9302     칼국수한마당-미금점   국수     4   \n",
       "9303     칼국수한마당-미금점   국수     5   \n",
       "9304     칼국수한마당-미금점   국수     5   \n",
       "9305     칼국수한마당-미금점   국수     5   \n",
       "\n",
       "                                                 review  \n",
       "0     배달오시기전 한번더 확인하셨다면 좋았을텐데그럼 바쁜 시간 전화까지 안했을텐데음식 나...  \n",
       "1                              맛은 있는데 양이 조금 적네여사장님 힘내세요  \n",
       "2     리뷰보고 오늘 처음 기대에 차서 시켰는데 일단 1단계인데도 너무 매워서 결국 못먹었...  \n",
       "3     요즘같이 배달음식점들이 활성화 된 시기에 이곳은 맛은 있습니다. 근데 먹고 전 배아...  \n",
       "4     첨으로 리뷰 남겨요.와이프와 먹게 삼겹살 3인분600시켰어요.냉동은 그렇다치고.어떻...  \n",
       "...                                                 ...  \n",
       "9301        배달도 빠르고 2인분 시켰는데 양 진짜 많고 맛있어요. 담에 또 시킬것같아요~  \n",
       "9302                          뚜껑안에 랩을 씌우면 국물이 새지않을듯싶습니다  \n",
       "9303                               한결같이 맛있어요 국물까지 원샷했네요  \n",
       "9304  배터지게 맛있게 잘 먹었습니다 눈오는날 이었는데 배송부탁드려서 죄송했어요~~그래도 ...  \n",
       "9305         양이 정말 많아요. 국물도 시원하고 맛있습니다. 특히 만두가 정말 맛있어요.  \n",
       "\n",
       "[9306 rows x 4 columns]"
      ]
     },
     "execution_count": 5,
     "metadata": {},
     "output_type": "execute_result"
    }
   ],
   "source": [
    "df"
   ]
  },
  {
   "cell_type": "code",
   "execution_count": 8,
   "id": "4b8a89f9-d4fb-41df-bf4c-6866b7b710c8",
   "metadata": {},
   "outputs": [],
   "source": [
    "df['len'] = df.review.apply(len)"
   ]
  },
  {
   "cell_type": "code",
   "execution_count": 9,
   "id": "4b087833-2e28-4291-8ada-b5c6c2cefe41",
   "metadata": {},
   "outputs": [
    {
     "data": {
      "text/html": [
       "<div>\n",
       "<style scoped>\n",
       "    .dataframe tbody tr th:only-of-type {\n",
       "        vertical-align: middle;\n",
       "    }\n",
       "\n",
       "    .dataframe tbody tr th {\n",
       "        vertical-align: top;\n",
       "    }\n",
       "\n",
       "    .dataframe thead th {\n",
       "        text-align: right;\n",
       "    }\n",
       "</style>\n",
       "<table border=\"1\" class=\"dataframe\">\n",
       "  <thead>\n",
       "    <tr style=\"text-align: right;\">\n",
       "      <th></th>\n",
       "      <th>brand</th>\n",
       "      <th>menu</th>\n",
       "      <th>star</th>\n",
       "      <th>review</th>\n",
       "      <th>len</th>\n",
       "    </tr>\n",
       "  </thead>\n",
       "  <tbody>\n",
       "    <tr>\n",
       "      <th>0</th>\n",
       "      <td>직화신불닭&amp;국물닭발-강북</td>\n",
       "      <td>찜</td>\n",
       "      <td>3</td>\n",
       "      <td>배달오시기전 한번더 확인하셨다면 좋았을텐데그럼 바쁜 시간 전화까지 안했을텐데음식 나...</td>\n",
       "      <td>116</td>\n",
       "    </tr>\n",
       "    <tr>\n",
       "      <th>1</th>\n",
       "      <td>직화신불닭&amp;국물닭발-강북</td>\n",
       "      <td>닭발</td>\n",
       "      <td>3</td>\n",
       "      <td>맛은 있는데 양이 조금 적네여사장님 힘내세요</td>\n",
       "      <td>24</td>\n",
       "    </tr>\n",
       "    <tr>\n",
       "      <th>2</th>\n",
       "      <td>직화신불닭&amp;국물닭발-강북</td>\n",
       "      <td>찜</td>\n",
       "      <td>1</td>\n",
       "      <td>리뷰보고 오늘 처음 기대에 차서 시켰는데 일단 1단계인데도 너무 매워서 결국 못먹었...</td>\n",
       "      <td>165</td>\n",
       "    </tr>\n",
       "    <tr>\n",
       "      <th>3</th>\n",
       "      <td>직화신불닭&amp;국물닭발-강북</td>\n",
       "      <td>닭발</td>\n",
       "      <td>1</td>\n",
       "      <td>요즘같이 배달음식점들이 활성화 된 시기에 이곳은 맛은 있습니다. 근데 먹고 전 배아...</td>\n",
       "      <td>96</td>\n",
       "    </tr>\n",
       "    <tr>\n",
       "      <th>4</th>\n",
       "      <td>직화신불닭&amp;국물닭발-강북</td>\n",
       "      <td>닭발</td>\n",
       "      <td>1</td>\n",
       "      <td>첨으로 리뷰 남겨요.와이프와 먹게 삼겹살 3인분600시켰어요.냉동은 그렇다치고.어떻...</td>\n",
       "      <td>72</td>\n",
       "    </tr>\n",
       "    <tr>\n",
       "      <th>...</th>\n",
       "      <td>...</td>\n",
       "      <td>...</td>\n",
       "      <td>...</td>\n",
       "      <td>...</td>\n",
       "      <td>...</td>\n",
       "    </tr>\n",
       "    <tr>\n",
       "      <th>9301</th>\n",
       "      <td>칼국수한마당-미금점</td>\n",
       "      <td>국수</td>\n",
       "      <td>5</td>\n",
       "      <td>배달도 빠르고 2인분 시켰는데 양 진짜 많고 맛있어요. 담에 또 시킬것같아요~</td>\n",
       "      <td>43</td>\n",
       "    </tr>\n",
       "    <tr>\n",
       "      <th>9302</th>\n",
       "      <td>칼국수한마당-미금점</td>\n",
       "      <td>국수</td>\n",
       "      <td>4</td>\n",
       "      <td>뚜껑안에 랩을 씌우면 국물이 새지않을듯싶습니다</td>\n",
       "      <td>25</td>\n",
       "    </tr>\n",
       "    <tr>\n",
       "      <th>9303</th>\n",
       "      <td>칼국수한마당-미금점</td>\n",
       "      <td>국수</td>\n",
       "      <td>5</td>\n",
       "      <td>한결같이 맛있어요 국물까지 원샷했네요</td>\n",
       "      <td>20</td>\n",
       "    </tr>\n",
       "    <tr>\n",
       "      <th>9304</th>\n",
       "      <td>칼국수한마당-미금점</td>\n",
       "      <td>국수</td>\n",
       "      <td>5</td>\n",
       "      <td>배터지게 맛있게 잘 먹었습니다 눈오는날 이었는데 배송부탁드려서 죄송했어요~~그래도 ...</td>\n",
       "      <td>82</td>\n",
       "    </tr>\n",
       "    <tr>\n",
       "      <th>9305</th>\n",
       "      <td>칼국수한마당-미금점</td>\n",
       "      <td>국수</td>\n",
       "      <td>5</td>\n",
       "      <td>양이 정말 많아요. 국물도 시원하고 맛있습니다. 특히 만두가 정말 맛있어요.</td>\n",
       "      <td>42</td>\n",
       "    </tr>\n",
       "  </tbody>\n",
       "</table>\n",
       "<p>9306 rows × 5 columns</p>\n",
       "</div>"
      ],
      "text/plain": [
       "              brand menu  star  \\\n",
       "0     직화신불닭&국물닭발-강북    찜     3   \n",
       "1     직화신불닭&국물닭발-강북   닭발     3   \n",
       "2     직화신불닭&국물닭발-강북    찜     1   \n",
       "3     직화신불닭&국물닭발-강북   닭발     1   \n",
       "4     직화신불닭&국물닭발-강북   닭발     1   \n",
       "...             ...  ...   ...   \n",
       "9301     칼국수한마당-미금점   국수     5   \n",
       "9302     칼국수한마당-미금점   국수     4   \n",
       "9303     칼국수한마당-미금점   국수     5   \n",
       "9304     칼국수한마당-미금점   국수     5   \n",
       "9305     칼국수한마당-미금점   국수     5   \n",
       "\n",
       "                                                 review  len  \n",
       "0     배달오시기전 한번더 확인하셨다면 좋았을텐데그럼 바쁜 시간 전화까지 안했을텐데음식 나...  116  \n",
       "1                              맛은 있는데 양이 조금 적네여사장님 힘내세요   24  \n",
       "2     리뷰보고 오늘 처음 기대에 차서 시켰는데 일단 1단계인데도 너무 매워서 결국 못먹었...  165  \n",
       "3     요즘같이 배달음식점들이 활성화 된 시기에 이곳은 맛은 있습니다. 근데 먹고 전 배아...   96  \n",
       "4     첨으로 리뷰 남겨요.와이프와 먹게 삼겹살 3인분600시켰어요.냉동은 그렇다치고.어떻...   72  \n",
       "...                                                 ...  ...  \n",
       "9301        배달도 빠르고 2인분 시켰는데 양 진짜 많고 맛있어요. 담에 또 시킬것같아요~   43  \n",
       "9302                          뚜껑안에 랩을 씌우면 국물이 새지않을듯싶습니다   25  \n",
       "9303                               한결같이 맛있어요 국물까지 원샷했네요   20  \n",
       "9304  배터지게 맛있게 잘 먹었습니다 눈오는날 이었는데 배송부탁드려서 죄송했어요~~그래도 ...   82  \n",
       "9305         양이 정말 많아요. 국물도 시원하고 맛있습니다. 특히 만두가 정말 맛있어요.   42  \n",
       "\n",
       "[9306 rows x 5 columns]"
      ]
     },
     "execution_count": 9,
     "metadata": {},
     "output_type": "execute_result"
    }
   ],
   "source": [
    "df"
   ]
  },
  {
   "cell_type": "code",
   "execution_count": 10,
   "id": "d59c8a52-07b7-4f23-9dbc-73d73dd6f5a5",
   "metadata": {},
   "outputs": [],
   "source": [
    "import numpy as np"
   ]
  },
  {
   "cell_type": "code",
   "execution_count": 11,
   "id": "616287de-1ede-434a-8fd9-9b0827abf512",
   "metadata": {},
   "outputs": [
    {
     "data": {
      "text/plain": [
       "41.66548463356974"
      ]
     },
     "execution_count": 11,
     "metadata": {},
     "output_type": "execute_result"
    }
   ],
   "source": [
    "np.mean(df.len)"
   ]
  },
  {
   "cell_type": "code",
   "execution_count": 12,
   "id": "a27e5720-351c-4247-9ce7-75f6f3122b69",
   "metadata": {},
   "outputs": [
    {
     "data": {
      "text/plain": [
       "299"
      ]
     },
     "execution_count": 12,
     "metadata": {},
     "output_type": "execute_result"
    }
   ],
   "source": [
    "max(df.len)"
   ]
  },
  {
   "cell_type": "code",
   "execution_count": 13,
   "id": "41b65491-6d14-434c-be54-c18ebb5a4b6c",
   "metadata": {},
   "outputs": [
    {
     "data": {
      "text/plain": [
       "1"
      ]
     },
     "execution_count": 13,
     "metadata": {},
     "output_type": "execute_result"
    }
   ],
   "source": [
    "min(df.len)"
   ]
  },
  {
   "cell_type": "code",
   "execution_count": 14,
   "id": "32407b51-0d1b-4a75-a9fe-06f8c78a95ac",
   "metadata": {},
   "outputs": [
    {
     "data": {
      "text/plain": [
       "164"
      ]
     },
     "execution_count": 14,
     "metadata": {},
     "output_type": "execute_result"
    }
   ],
   "source": [
    "np.argmin(df.len)"
   ]
  },
  {
   "cell_type": "code",
   "execution_count": 15,
   "id": "49fe772b-0b7e-4539-9767-4e7e72fc2cc6",
   "metadata": {},
   "outputs": [
    {
     "data": {
      "text/plain": [
       "brand     홍푸드&갈비찜&냉면\n",
       "menu             비빔밥\n",
       "star               3\n",
       "review             굿\n",
       "len                1\n",
       "Name: 164, dtype: object"
      ]
     },
     "execution_count": 15,
     "metadata": {},
     "output_type": "execute_result"
    }
   ],
   "source": [
    "df.iloc[164]"
   ]
  },
  {
   "cell_type": "code",
   "execution_count": 17,
   "id": "9cfdf15e-c374-4616-b7ed-e82641f21b12",
   "metadata": {},
   "outputs": [
    {
     "data": {
      "text/plain": [
       "(8473, 833)"
      ]
     },
     "execution_count": 17,
     "metadata": {},
     "output_type": "execute_result"
    }
   ],
   "source": [
    "len(df[df.len > 10]), len(df[df.len <= 10])"
   ]
  },
  {
   "cell_type": "code",
   "execution_count": 18,
   "id": "22caebcf-6c75-437d-8c6a-5f17d9d91e65",
   "metadata": {},
   "outputs": [
    {
     "data": {
      "text/html": [
       "<div>\n",
       "<style scoped>\n",
       "    .dataframe tbody tr th:only-of-type {\n",
       "        vertical-align: middle;\n",
       "    }\n",
       "\n",
       "    .dataframe tbody tr th {\n",
       "        vertical-align: top;\n",
       "    }\n",
       "\n",
       "    .dataframe thead th {\n",
       "        text-align: right;\n",
       "    }\n",
       "</style>\n",
       "<table border=\"1\" class=\"dataframe\">\n",
       "  <thead>\n",
       "    <tr style=\"text-align: right;\">\n",
       "      <th></th>\n",
       "      <th>brand</th>\n",
       "      <th>menu</th>\n",
       "      <th>star</th>\n",
       "      <th>review</th>\n",
       "      <th>len</th>\n",
       "    </tr>\n",
       "  </thead>\n",
       "  <tbody>\n",
       "    <tr>\n",
       "      <th>5</th>\n",
       "      <td>직화신불닭&amp;국물닭발-강북</td>\n",
       "      <td>닭발</td>\n",
       "      <td>3</td>\n",
       "      <td>맛있어요!!</td>\n",
       "      <td>6</td>\n",
       "    </tr>\n",
       "    <tr>\n",
       "      <th>26</th>\n",
       "      <td>직화신불닭&amp;국물닭발-강북</td>\n",
       "      <td>닭발</td>\n",
       "      <td>3</td>\n",
       "      <td>맵고 조금 느끼해요</td>\n",
       "      <td>10</td>\n",
       "    </tr>\n",
       "    <tr>\n",
       "      <th>29</th>\n",
       "      <td>직화신불닭&amp;국물닭발-강북</td>\n",
       "      <td>찜</td>\n",
       "      <td>3</td>\n",
       "      <td>나쁘지는않은거같아요</td>\n",
       "      <td>10</td>\n",
       "    </tr>\n",
       "    <tr>\n",
       "      <th>30</th>\n",
       "      <td>직화신불닭&amp;국물닭발-강북</td>\n",
       "      <td>닭발</td>\n",
       "      <td>3</td>\n",
       "      <td>맛있었습니당!!</td>\n",
       "      <td>8</td>\n",
       "    </tr>\n",
       "    <tr>\n",
       "      <th>41</th>\n",
       "      <td>직화신불닭&amp;국물닭발-강북</td>\n",
       "      <td>찜</td>\n",
       "      <td>3</td>\n",
       "      <td>너무 매웠어요 ㅜㅠ</td>\n",
       "      <td>10</td>\n",
       "    </tr>\n",
       "    <tr>\n",
       "      <th>...</th>\n",
       "      <td>...</td>\n",
       "      <td>...</td>\n",
       "      <td>...</td>\n",
       "      <td>...</td>\n",
       "      <td>...</td>\n",
       "    </tr>\n",
       "    <tr>\n",
       "      <th>9252</th>\n",
       "      <td>칼국수한마당-미금점</td>\n",
       "      <td>국수</td>\n",
       "      <td>4</td>\n",
       "      <td>칼국수 굿팥죽</td>\n",
       "      <td>8</td>\n",
       "    </tr>\n",
       "    <tr>\n",
       "      <th>9263</th>\n",
       "      <td>칼국수한마당-미금점</td>\n",
       "      <td>국수</td>\n",
       "      <td>5</td>\n",
       "      <td>양 많고 맛있네요!</td>\n",
       "      <td>10</td>\n",
       "    </tr>\n",
       "    <tr>\n",
       "      <th>9273</th>\n",
       "      <td>칼국수한마당-미금점</td>\n",
       "      <td>국수</td>\n",
       "      <td>5</td>\n",
       "      <td>종종 주문할거예요!</td>\n",
       "      <td>10</td>\n",
       "    </tr>\n",
       "    <tr>\n",
       "      <th>9294</th>\n",
       "      <td>칼국수한마당-미금점</td>\n",
       "      <td>국수</td>\n",
       "      <td>5</td>\n",
       "      <td>양도 많고 맛있어요</td>\n",
       "      <td>10</td>\n",
       "    </tr>\n",
       "    <tr>\n",
       "      <th>9297</th>\n",
       "      <td>칼국수한마당-미금점</td>\n",
       "      <td>국수</td>\n",
       "      <td>4</td>\n",
       "      <td>잘 먹었습니다~!!</td>\n",
       "      <td>10</td>\n",
       "    </tr>\n",
       "  </tbody>\n",
       "</table>\n",
       "<p>833 rows × 5 columns</p>\n",
       "</div>"
      ],
      "text/plain": [
       "              brand menu  star      review  len\n",
       "5     직화신불닭&국물닭발-강북   닭발     3      맛있어요!!    6\n",
       "26    직화신불닭&국물닭발-강북   닭발     3  맵고 조금 느끼해요   10\n",
       "29    직화신불닭&국물닭발-강북    찜     3  나쁘지는않은거같아요   10\n",
       "30    직화신불닭&국물닭발-강북   닭발     3    맛있었습니당!!    8\n",
       "41    직화신불닭&국물닭발-강북    찜     3  너무 매웠어요 ㅜㅠ   10\n",
       "...             ...  ...   ...         ...  ...\n",
       "9252     칼국수한마당-미금점   국수     4    칼국수 굿팥죽     8\n",
       "9263     칼국수한마당-미금점   국수     5  양 많고 맛있네요!   10\n",
       "9273     칼국수한마당-미금점   국수     5  종종 주문할거예요!   10\n",
       "9294     칼국수한마당-미금점   국수     5  양도 많고 맛있어요   10\n",
       "9297     칼국수한마당-미금점   국수     4  잘 먹었습니다~!!   10\n",
       "\n",
       "[833 rows x 5 columns]"
      ]
     },
     "execution_count": 18,
     "metadata": {},
     "output_type": "execute_result"
    }
   ],
   "source": [
    "df[df.len <= 10]"
   ]
  },
  {
   "cell_type": "code",
   "execution_count": 19,
   "id": "6970e91a-a1b4-42f7-a68f-825c7c29d13e",
   "metadata": {},
   "outputs": [
    {
     "data": {
      "text/html": [
       "<div>\n",
       "<style scoped>\n",
       "    .dataframe tbody tr th:only-of-type {\n",
       "        vertical-align: middle;\n",
       "    }\n",
       "\n",
       "    .dataframe tbody tr th {\n",
       "        vertical-align: top;\n",
       "    }\n",
       "\n",
       "    .dataframe thead th {\n",
       "        text-align: right;\n",
       "    }\n",
       "</style>\n",
       "<table border=\"1\" class=\"dataframe\">\n",
       "  <thead>\n",
       "    <tr style=\"text-align: right;\">\n",
       "      <th></th>\n",
       "      <th>brand</th>\n",
       "      <th>menu</th>\n",
       "      <th>star</th>\n",
       "      <th>review</th>\n",
       "      <th>len</th>\n",
       "    </tr>\n",
       "  </thead>\n",
       "  <tbody>\n",
       "    <tr>\n",
       "      <th>0</th>\n",
       "      <td>직화신불닭&amp;국물닭발-강북</td>\n",
       "      <td>찜</td>\n",
       "      <td>3</td>\n",
       "      <td>배달오시기전 한번더 확인하셨다면 좋았을텐데그럼 바쁜 시간 전화까지 안했을텐데음식 나...</td>\n",
       "      <td>116</td>\n",
       "    </tr>\n",
       "    <tr>\n",
       "      <th>2</th>\n",
       "      <td>직화신불닭&amp;국물닭발-강북</td>\n",
       "      <td>찜</td>\n",
       "      <td>1</td>\n",
       "      <td>리뷰보고 오늘 처음 기대에 차서 시켰는데 일단 1단계인데도 너무 매워서 결국 못먹었...</td>\n",
       "      <td>165</td>\n",
       "    </tr>\n",
       "    <tr>\n",
       "      <th>6</th>\n",
       "      <td>직화신불닭&amp;국물닭발-강북</td>\n",
       "      <td>찜</td>\n",
       "      <td>2</td>\n",
       "      <td>아 이게 참 뭐라고 설명해야할지 모르겠네요...여기 닭발 진짜 좋아하는데 정말 오랜...</td>\n",
       "      <td>161</td>\n",
       "    </tr>\n",
       "    <tr>\n",
       "      <th>18</th>\n",
       "      <td>직화신불닭&amp;국물닭발-강북</td>\n",
       "      <td>닭발</td>\n",
       "      <td>2</td>\n",
       "      <td>..오후 2시부터 퇴근하고 닭발 먹을 생각에 신나서 집에 오자마자 씻고 맥주도  냉...</td>\n",
       "      <td>220</td>\n",
       "    </tr>\n",
       "    <tr>\n",
       "      <th>25</th>\n",
       "      <td>직화신불닭&amp;국물닭발-강북</td>\n",
       "      <td>닭발</td>\n",
       "      <td>3</td>\n",
       "      <td>배달은 여상시간 60분..하지만 더 늦어서 거의 80분내외로 온듯 하고 또 8월 2...</td>\n",
       "      <td>101</td>\n",
       "    </tr>\n",
       "    <tr>\n",
       "      <th>...</th>\n",
       "      <td>...</td>\n",
       "      <td>...</td>\n",
       "      <td>...</td>\n",
       "      <td>...</td>\n",
       "      <td>...</td>\n",
       "    </tr>\n",
       "    <tr>\n",
       "      <th>9260</th>\n",
       "      <td>칼국수한마당-미금점</td>\n",
       "      <td>국수</td>\n",
       "      <td>3</td>\n",
       "      <td>조리되지 않은 것으로 주문했는데 칼국수는 끓여서 먹었지만 팥칼국수는 냉동상태로 와서...</td>\n",
       "      <td>115</td>\n",
       "    </tr>\n",
       "    <tr>\n",
       "      <th>9269</th>\n",
       "      <td>칼국수한마당-미금점</td>\n",
       "      <td>국수</td>\n",
       "      <td>2</td>\n",
       "      <td>해물칼국수랑 들깨칼국수  조리한걸로 시켰는데. 면을 따로 담아주셨네요.뜨끈한 칼국수...</td>\n",
       "      <td>143</td>\n",
       "    </tr>\n",
       "    <tr>\n",
       "      <th>9271</th>\n",
       "      <td>칼국수한마당-미금점</td>\n",
       "      <td>국수</td>\n",
       "      <td>5</td>\n",
       "      <td>면 추가를 했더니 육수를 엄청나게 주셔서 정말 배부르게 먹었습니다 감사합니다 ㅜㅜ ...</td>\n",
       "      <td>138</td>\n",
       "    </tr>\n",
       "    <tr>\n",
       "      <th>9296</th>\n",
       "      <td>칼국수한마당-미금점</td>\n",
       "      <td>국수</td>\n",
       "      <td>1</td>\n",
       "      <td>바쁘시다는 이유로뜨거운 음식이 차갑게돈을 더 지불하고 조리를 선택할 이유가 없었네요...</td>\n",
       "      <td>151</td>\n",
       "    </tr>\n",
       "    <tr>\n",
       "      <th>9300</th>\n",
       "      <td>칼국수한마당-미금점</td>\n",
       "      <td>국수</td>\n",
       "      <td>5</td>\n",
       "      <td>몸이 추워서 따뜻한 거 먹으려고 주문한 거였는데수제비와 칼국수를 모두 비조리 상태로...</td>\n",
       "      <td>254</td>\n",
       "    </tr>\n",
       "  </tbody>\n",
       "</table>\n",
       "<p>817 rows × 5 columns</p>\n",
       "</div>"
      ],
      "text/plain": [
       "              brand menu  star  \\\n",
       "0     직화신불닭&국물닭발-강북    찜     3   \n",
       "2     직화신불닭&국물닭발-강북    찜     1   \n",
       "6     직화신불닭&국물닭발-강북    찜     2   \n",
       "18    직화신불닭&국물닭발-강북   닭발     2   \n",
       "25    직화신불닭&국물닭발-강북   닭발     3   \n",
       "...             ...  ...   ...   \n",
       "9260     칼국수한마당-미금점   국수     3   \n",
       "9269     칼국수한마당-미금점   국수     2   \n",
       "9271     칼국수한마당-미금점   국수     5   \n",
       "9296     칼국수한마당-미금점   국수     1   \n",
       "9300     칼국수한마당-미금점   국수     5   \n",
       "\n",
       "                                                 review  len  \n",
       "0     배달오시기전 한번더 확인하셨다면 좋았을텐데그럼 바쁜 시간 전화까지 안했을텐데음식 나...  116  \n",
       "2     리뷰보고 오늘 처음 기대에 차서 시켰는데 일단 1단계인데도 너무 매워서 결국 못먹었...  165  \n",
       "6     아 이게 참 뭐라고 설명해야할지 모르겠네요...여기 닭발 진짜 좋아하는데 정말 오랜...  161  \n",
       "18    ..오후 2시부터 퇴근하고 닭발 먹을 생각에 신나서 집에 오자마자 씻고 맥주도  냉...  220  \n",
       "25    배달은 여상시간 60분..하지만 더 늦어서 거의 80분내외로 온듯 하고 또 8월 2...  101  \n",
       "...                                                 ...  ...  \n",
       "9260  조리되지 않은 것으로 주문했는데 칼국수는 끓여서 먹었지만 팥칼국수는 냉동상태로 와서...  115  \n",
       "9269  해물칼국수랑 들깨칼국수  조리한걸로 시켰는데. 면을 따로 담아주셨네요.뜨끈한 칼국수...  143  \n",
       "9271  면 추가를 했더니 육수를 엄청나게 주셔서 정말 배부르게 먹었습니다 감사합니다 ㅜㅜ ...  138  \n",
       "9296  바쁘시다는 이유로뜨거운 음식이 차갑게돈을 더 지불하고 조리를 선택할 이유가 없었네요...  151  \n",
       "9300  몸이 추워서 따뜻한 거 먹으려고 주문한 거였는데수제비와 칼국수를 모두 비조리 상태로...  254  \n",
       "\n",
       "[817 rows x 5 columns]"
      ]
     },
     "execution_count": 19,
     "metadata": {},
     "output_type": "execute_result"
    }
   ],
   "source": [
    "df[df.len >= 100]"
   ]
  },
  {
   "cell_type": "code",
   "execution_count": 20,
   "id": "52e30583-0b87-4334-a66e-e0acc46a6cb4",
   "metadata": {},
   "outputs": [],
   "source": [
    "import seaborn as sns"
   ]
  },
  {
   "cell_type": "code",
   "execution_count": 21,
   "id": "c1e33386-8966-4684-850a-11d1aea22ba5",
   "metadata": {},
   "outputs": [
    {
     "data": {
      "text/plain": [
       "<AxesSubplot:xlabel='review', ylabel='Density'>"
      ]
     },
     "execution_count": 21,
     "metadata": {},
     "output_type": "execute_result"
    },
    {
     "data": {
      "image/png": "[encoded data removed]",
      "text/plain": [
       "<Figure size 432x288 with 1 Axes>"
      ]
     },
     "metadata": {
      "needs_background": "light"
     },
     "output_type": "display_data"
    }
   ],
   "source": [
    "sns.kdeplot(df.len)"
   ]
  },
  {
   "cell_type": "code",
   "execution_count": 22,
   "id": "14ba8d43-c2f1-47ba-9782-991294afd469",
   "metadata": {},
   "outputs": [
    {
     "data": {
      "text/plain": [
       "9306"
      ]
     },
     "execution_count": 22,
     "metadata": {},
     "output_type": "execute_result"
    }
   ],
   "source": [
    "len(df)"
   ]
  },
  {
   "cell_type": "code",
   "execution_count": null,
   "id": "efd41428-9be5-41bc-8d58-c02e0267bfff",
   "metadata": {},
   "outputs": [],
   "source": []
  }
 ],
 "metadata": {
  "kernelspec": {
   "display_name": "Python 3 (ipykernel)",
   "language": "python",
   "name": "python3"
  },
  "language_info": {
   "codemirror_mode": {
    "name": "ipython",
    "version": 3
   },
   "file_extension": ".py",
   "mimetype": "text/x-python",
   "name": "python",
   "nbconvert_exporter": "python",
   "pygments_lexer": "ipython3",
   "version": "3.7.11"
  }
 },
 "nbformat": 4,
 "nbformat_minor": 5
}
